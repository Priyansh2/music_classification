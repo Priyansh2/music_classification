{
 "cells": [
  {
   "cell_type": "code",
   "execution_count": 1,
   "metadata": {
    "ExecuteTime": {
     "end_time": "2019-05-24T20:09:31.778199Z",
     "start_time": "2019-05-24T20:09:30.674819Z"
    }
   },
   "outputs": [],
   "source": [
    "import itertools\n",
    "import os\n",
    "import sys\n",
    "import random\n",
    "import math\n",
    "import dill as pickle\n",
    "import csv\n",
    "import json\n",
    "import multiprocessing\n",
    "import numpy as np\n",
    "from collections import Counter\n",
    "from collections import defaultdict\n",
    "from pathlib import Path\n",
    "from random import shuffle\n",
    "import re\n",
    "import string"
   ]
  },
  {
   "cell_type": "code",
   "execution_count": 2,
   "metadata": {
    "ExecuteTime": {
     "end_time": "2019-05-24T20:09:31.876972Z",
     "start_time": "2019-05-24T20:09:31.872753Z"
    }
   },
   "outputs": [],
   "source": [
    "def save_model(file_path,model):\n",
    "    file = open(file_path,\"wb\")\n",
    "    pickle.dump(model,file,protocol=2)\n",
    "    file.close()\n",
    "\n",
    "def load_model(file_path):\n",
    "    file = open(file_path,\"rb\")\n",
    "    model = pickle.load(file)\n",
    "    file.close()\n",
    "    return model\n",
    "\n",
    "def write_in_file(filename,data):\n",
    "    ##data is list of strings\n",
    "    ##filename is file_path\n",
    "    print(\"Writing content in file....\")\n",
    "    fd = open(filename,\"w\",encoding=\"utf-8\")\n",
    "    for sent in data:\n",
    "        fd.write(sent+\"\\n\")\n",
    "    fd.close()\n",
    "    print(\"Done!!\")"
   ]
  },
  {
   "cell_type": "code",
   "execution_count": 13,
   "metadata": {
    "ExecuteTime": {
     "end_time": "2019-05-24T20:23:07.760963Z",
     "start_time": "2019-05-24T20:23:07.753729Z"
    }
   },
   "outputs": [
    {
     "name": "stdout",
     "output_type": "stream",
     "text": [
      "[\"'\", '>', '5', '`', 'ê', '—', '�', '–', '☻', '?', '0', '*', '%', '3', ',', '\\n', ';', ']', '9', '4', '(', '=', '1', '2', '^', '&', '☺', '…', '@', '6', 'é', '🙂', '☓', '‘', ':', '8', '+', '}', '_', '[', '!', '<', '|', '\"', '.', '{', '~', '“', '/', '\\\\', 'â', '7', '”', '♫', '×', '$', '#', 'ä', ')']\n",
      "['bhajan', 'bhangra', 'birthday', 'classical', 'dance', 'dream', 'engagement', 'festivals', 'folk', 'friendship', 'funny', 'happy', 'hip-pop', 'item-numbers', 'kids', 'love', 'marriage', 'masti', 'motivational', 'mujra', 'party', 'patriotic', 'philosophical', 'playful', 'pop', 'qawwali', 'rain', 'religious', 'rock', 'sad', 'sensual', 'sharaabi', 'sufi']\n"
     ]
    }
   ],
   "source": [
    "cwd = os.getcwd()\n",
    "home=str(Path.home())\n",
    "csnli_path=os.path.join(home,\"csnli\")\n",
    "#code_source=os.path.join(cwd,\"python_itunes\")\n",
    "#lyrics_data_path=os.path.join(code_source,\"data/lyrics\")\n",
    "lyrics_data_path = cwd+\"/python_itunes/Genre-Classification-of-Hindi-Songs/backup/only_movies_songs/data/lyrics\"\n",
    "genre_dirs = sorted(os.listdir(lyrics_data_path))\n",
    "delims = load_model(os.path.join(csnli_path,\"delim.pkl\"))\n",
    "print(delims)\n",
    "print(genre_dirs)"
   ]
  },
  {
   "cell_type": "code",
   "execution_count": 14,
   "metadata": {
    "ExecuteTime": {
     "end_time": "2019-05-24T20:23:10.491423Z",
     "start_time": "2019-05-24T20:23:10.475567Z"
    }
   },
   "outputs": [],
   "source": [
    "def tokenise(line):\n",
    "    line = line.lower()\n",
    "    for delim in delims:\n",
    "        line = line.replace(delim,\"\")\n",
    "    return line\n",
    "\n",
    "def read_genre_data(genre,tracker,is_tokenise=True):\n",
    "    corpus=[]\n",
    "    for file in sorted(os.listdir(os.path.join(lyrics_data_path,genre))):\n",
    "        doc=[]\n",
    "        file_path = os.path.join(os.path.join(lyrics_data_path,genre),file)\n",
    "        if os.stat(file_path).st_size==0:\n",
    "            #print(genre,file_path)\n",
    "            continue\n",
    "        lyrics = open(file_path,\"r\").readlines()\n",
    "        for line in lyrics:\n",
    "            if line.split(\"\\n\")[0].strip():\n",
    "                input_=line.split(\"\\n\")[0]\n",
    "                if is_tokenise:\n",
    "                    input_=tokenise(input_).strip()\n",
    "                if len(input_.split())>0:\n",
    "                    doc.append(input_)\n",
    "        if doc not in corpus:\n",
    "            if doc not in tracker:\n",
    "                tracker.append(doc)\n",
    "                corpus.append(doc)\n",
    "    return corpus,tracker\n",
    "def sanity_checks(data):\n",
    "    for genre in data:\n",
    "        temp=[]\n",
    "        for song in data[genre]:\n",
    "            if tuple(song) not in temp:\n",
    "                temp.append(tuple(song))\n",
    "            else:\n",
    "                raise Exception(\"Duplicate song in data!\\n\")\n",
    "                #print(genre,song,\"\\n\\n\")\n",
    "    temp=defaultdict(list)\n",
    "    for genre in data:\n",
    "        for song in data[genre]:\n",
    "            temp[tuple(song)].append(genre)\n",
    "    for song in temp:\n",
    "        if len(temp[song])>1:\n",
    "            #print(song,len(temp[song]),temp[song],\"\\n\\n\")\n",
    "            raise Exception(\"Duplicate songs in same genre!\\n\")        "
   ]
  },
  {
   "cell_type": "code",
   "execution_count": 15,
   "metadata": {
    "ExecuteTime": {
     "end_time": "2019-05-24T20:24:08.939086Z",
     "start_time": "2019-05-24T20:23:12.481262Z"
    }
   },
   "outputs": [],
   "source": [
    "## data is dictionary where key is 'genre' mapped to list of lists (Each list correpsonds to 'song lyrics')\n",
    "data={}\n",
    "tracker=[]\n",
    "for genre in genre_dirs:\n",
    "    data[genre],tracker=read_genre_data(genre,tracker)"
   ]
  },
  {
   "cell_type": "code",
   "execution_count": 16,
   "metadata": {
    "ExecuteTime": {
     "end_time": "2019-05-24T20:24:10.666116Z",
     "start_time": "2019-05-24T20:24:08.941496Z"
    }
   },
   "outputs": [],
   "source": [
    "sanity_checks(data)"
   ]
  },
  {
   "cell_type": "code",
   "execution_count": 17,
   "metadata": {
    "ExecuteTime": {
     "end_time": "2019-05-24T20:24:10.671172Z",
     "start_time": "2019-05-24T20:24:10.668072Z"
    }
   },
   "outputs": [
    {
     "name": "stdout",
     "output_type": "stream",
     "text": [
      "Total songs in data:  28833 \n",
      "\n"
     ]
    }
   ],
   "source": [
    "##Songs in data\n",
    "cnt=0\n",
    "for genre in data:\n",
    "    cnt+=len(data[genre])\n",
    "print(\"Total songs in data: \",cnt,\"\\n\")"
   ]
  },
  {
   "cell_type": "code",
   "execution_count": 18,
   "metadata": {
    "ExecuteTime": {
     "end_time": "2019-05-24T20:26:30.666553Z",
     "start_time": "2019-05-24T20:26:30.175076Z"
    }
   },
   "outputs": [],
   "source": [
    "#save_model(\"pickled_data/genre_data_map.pkl\",data)\n",
    "data=load_model(\"pickled_data/genre_data_map.pkl\")"
   ]
  },
  {
   "cell_type": "code",
   "execution_count": 19,
   "metadata": {
    "ExecuteTime": {
     "end_time": "2019-05-24T20:26:31.878856Z",
     "start_time": "2019-05-24T20:26:31.874538Z"
    }
   },
   "outputs": [
    {
     "name": "stdout",
     "output_type": "stream",
     "text": [
      "Total songs in data:  28823 \n",
      "\n",
      "[['prabhu ji prabhu ji', 'tum rakho laaj hamari', 'prabhu ji prabhu ji', 'tum rakho laaj hamari', 'man ki baat chhupi nahi sabse', 'man ki baat chhupi nahi sabse', 'joban dalke sari', 'rakho laaj hamari', 'prabhu ji prabhu ji tum', 'kya vidhata jaal bichhaya', 'aur biraja ka taro mein aaya', 'man panchhi usme samata', 'kismat mein tha dukho ne jana', 'is bandhan se tum hi chhudao', 'is bandhan se tum hi chhudao', 'pyaare krishan murari', 'rakho laaj hamari', 'prabhu ji prabhu ji tum', 'kaisa dekh rahi hoon sapna', 'sapno ki kya hota apna', 'kaisa dekh rahi hoon sapna', 'sapno ki kya hota apna', 'jo kuch hua meri marji', 'mujh ko sone na de', 'rakho laaz hamari', 'prabhu ji prabhu ji tum', 'door baho na aao aao', 'tumse dheer bandao aao', 'jeevan mein toofan utha hai', 'prabhu ji prabhu ji', 'jeevan mein toofan utha hai', 'aur aankho abhi yaad', 'rakho laaz hamari', 'prabhu ji prabhu ji', 'tum rakho laaj hamari'], ['kunjan ban chhaadi he', 'madho kahaan jaaun ghanshyaam', 'kunjan ban chhaadi he', 'madho kahaan jaaun ghanshyaam', 'jo main hoti jalki machhaliya', 'jo main hoti jalki machhaliya', 'prabhu garje mo snaan', 'charan chhune ke mahao', 'madho kahaan jaaun ghanshyaam', 'madho kahaan jaaun ghanshyaam', 'jo main hoti mukhta moti', 'gal vich hoti haar', 'jo main hoti mukhta moti', 'gal vich hoti haar', 'heeya par chadh rehti ayi madho', 'madho kahaan jaaun ghanshyaam', 'madho kahaan jaaun ghanshyaam', 'jo tum chaho milan hamaro', 'meera ke ghanshaam', 'jo tum chaho milan hamaro', 'meera ke ghanshyaam', 'darsha bina kya ghul hai madho', 'darsha bina kya ghul hai madho', 'madho kahaan jaaun ghanshyaam', 'madho kahaan jaaun ghanshyaam'], ['baso morey nainan mein nandalala', 'nainan mein', 'mor mukut mak aakruti kundan', 'aur tilak sohe bhaal', 'mor mukut mak aakruti kundan', 'aur tilak sohe bhaal', 'mor mukut mak aakruti kundan', 'mor mukut mak aakruti kundan', 'mor mukut mak aakruti kundan', 'aur tilak sohe bhaal', 'adhar sudhaar ras murli waale', 'ur chad nandalala', 'baso morey nainan mein nandalala', 'sudra ghantika ghatit chovis', 'nupoor shab dar dhaay', 'meera prabhu santan sukh daayi', 'meera prabhu santan sukh daayi', 'bhagat vachan gopaal gopaal gopaal'], ['brindavan kunj bhavana', 'naachata giridhari', 'brindavan kunj bhavana', 'naachata giridhari', 'dhar dhar dhar murali adhar', 'madhur madhur madhur bhar bhar', 'dhar dhar dhar murali adhar', 'madhur madhur madhur bhar bhar', 'randeet natwar sundar', 'antar sukh kaari prabhu', 'antar sukh kaari', 'roop raaz anu saaz', 'saavaz balihaari', 'roop raaz anu saaz', 'saavaz balihaari', 'naachata giridhari', 'ghan ghan ghan baaz ghata', 'thumk thumk thumk chaalat saa', 'ghan ghan ghan baaz ghata', 'thumk thumk thumk chaalat saa', 'ghan ghan ghan baaz ghata', 'thumk thumk thumk chaalat saa', 'mil mil mil chatraaz haay', 'naari prabhu sang gop naari', 'prabhu sang gop naari', 'lok laaz anug besaaje', 'gaavat balihaari', 'gaavat prabhi gaavat', 'gaavat prabhi gaavat', 'gaavat gaavat gaavat mohan', 'gaavat gaavat gaavat', 'mohan giridhaari', 'giridhaari giridhaari', 'giridhaari giridhaari'], ['maane chaakar raakho ji', 'chaakar raakho ji sawaliyaa', 'maane chaakar raakho ji', 'maane chaakar raakho ji', 'chaakar raakho ji sawaliyaa', 'maane chaakar raakho ji', 'chaakar rah tu baabul gaa tu', 'nis-din darshan paa tu', 'bridaapan ki kuj-galin mein', 'bridaapan ki kuj-galin mein', 'teri lilaa gaa tu', 'chaakar rah tu baabul gaa tu', 'nis-din darshan paa tu', 'bridaapan ki kuj-galin mein', 'bridaapan ki kuj-galin mein', 'teri lilaa gaa tu', 'maane chaakar raakho ji', 'chaakar raakho ji sawaliyaa', 'maane chaakar raakho ji', 'unchi-unchi mahal banaaun', 'jis bich raakhun baari', 'saanwariyaa ke darashan paaun', 'saanwariyaa ke darashan paaun', 'jaaun tan-man vaari', 'unchi-unchi mahal banaaun', 'jis bich raakhun baari', 'saanwariyaa ke darashan paaun', 'saanwariyaa ke darashan paaun', 'jaaun tan-man vaari', 'maane chaakar raakho ji', 'chaakar raakho ji sawaliyaa', 'maane chaakar raakho ji', 'jogi aayaa jog karan ko', 'jogi aayaa jog karan ko', 'tap karane sayaasi', 'hari-bhajan ko saadhu aayaa', 'bridaaban ke paasi', 'kaahe nir jhare nainan se', 'kaahe nir jhare nainan se', 'dhir dharo ji miraa', 'aadhi raat prabhu darshan dete', 'aadhi raat prabhu darshan dete', 'prem nadi ke tiraa', 'prem nadi ke tiraa', 'maane chaakar raakho ji', 'chaakar raakho ji sawaliyaa', 'maane chaakar raakho ji']]\n"
     ]
    }
   ],
   "source": [
    "##Songs in data\n",
    "cnt=0\n",
    "for genre in data:\n",
    "    cnt+=len(data[genre])\n",
    "print(\"Total songs in data: \",cnt,\"\\n\")\n",
    "print(data[genre_dirs[0]][:5])"
   ]
  },
  {
   "cell_type": "code",
   "execution_count": 28,
   "metadata": {
    "ExecuteTime": {
     "end_time": "2019-05-17T07:23:08.228335Z",
     "start_time": "2019-05-17T07:23:08.223354Z"
    }
   },
   "outputs": [
    {
     "name": "stdout",
     "output_type": "stream",
     "text": [
      "['bhajan', 'bhangra', 'birthday', 'classical', 'dance', 'dream', 'engagement', 'festivals', 'folk', 'friendship', 'funny', 'happy', 'hip-pop', 'item-numbers', 'kids', 'love', 'marriage', 'masti', 'motivational', 'mujra', 'party', 'patriotic', 'philosophical', 'playful', 'pop', 'qawwali', 'rain', 'religious', 'rock', 'sad', 'sensual', 'sharaabi', 'sufi']\n"
     ]
    }
   ],
   "source": [
    "print(genre_dirs)\n",
    "#WIF :- Western-Indian Fusion Music\n",
    "merged_classes={\"indian_wedding\":[\"marriage\",\"engagement\"],\n",
    "                \"joyful\":[\"playful\",\"funny\",\"masti\"],\n",
    "                \"sensual\":[\"item-numbers\",\"sensual\"],\n",
    "                \"religious\":[\"religious\",\"bhajan\",\"sufi\",\"qawwali\"],\n",
    "                \"WIF\":[\"pop\",\"rock\",\"hip-pop\",\"party\",\"dance\"],\n",
    "                \"folk\":[\"folk\",\"bhangra\"],\n",
    "                \"other\":[\"kids\",\"rain\",\"sharaabi\",\"dream\"]\n",
    "               }\n",
    "main_classes={\"theme\":[\"friendship\",\"birthday\",\"festivals\",\"patriotic\",\"indian_wedding\",\"mujra\"],\n",
    "              \"mood\":[\"happy\",\"sad\",\"joyful\",\"sensual\",\"love\",\"motivational\",\"philosophical\"],\n",
    "              \"genre\":[\"classical\",\"religious\",\"folk\",\"WIF\"],\n",
    "              \"other_class\":[\"other\"]\n",
    "             }"
   ]
  },
  {
   "cell_type": "code",
   "execution_count": 30,
   "metadata": {
    "ExecuteTime": {
     "end_time": "2019-05-17T07:23:24.563858Z",
     "start_time": "2019-05-17T07:23:24.561150Z"
    }
   },
   "outputs": [
    {
     "data": {
      "text/plain": [
       "'main_data=defaultdict(lambda: defaultdict(list))\\nfor label in main_classes:\\n    for sublabel in main_classes[label]:\\n        if sublabel not in merged_classes:\\n            main_data[label][sublabel]=data[sublabel]\\n        else:\\n            for subsublabel in merged_classes[sublabel]:\\n                main_data[label][sublabel].extend(data[subsublabel])'"
      ]
     },
     "execution_count": 30,
     "metadata": {},
     "output_type": "execute_result"
    }
   ],
   "source": [
    "'''main_data=defaultdict(lambda: defaultdict(list))\n",
    "for label in main_classes:\n",
    "    for sublabel in main_classes[label]:\n",
    "        if sublabel not in merged_classes:\n",
    "            main_data[label][sublabel]=data[sublabel]\n",
    "        else:\n",
    "            for subsublabel in merged_classes[sublabel]:\n",
    "                main_data[label][sublabel].extend(data[subsublabel])'''"
   ]
  },
  {
   "cell_type": "code",
   "execution_count": 32,
   "metadata": {
    "ExecuteTime": {
     "end_time": "2019-05-17T07:23:36.593334Z",
     "start_time": "2019-05-17T07:23:36.309715Z"
    }
   },
   "outputs": [],
   "source": [
    "#save_model(\"pickled_data/songs_main_data.pkl\",main_data)\n",
    "main_data = load_model(\"pickled_data/songs_main_data.pkl\")"
   ]
  },
  {
   "cell_type": "code",
   "execution_count": 33,
   "metadata": {
    "ExecuteTime": {
     "end_time": "2019-05-17T07:23:37.300473Z",
     "start_time": "2019-05-17T07:23:37.296846Z"
    }
   },
   "outputs": [
    {
     "name": "stdout",
     "output_type": "stream",
     "text": [
      "theme friendship 89\n",
      "theme birthday 33\n",
      "theme festivals 212\n",
      "theme patriotic 291\n",
      "theme indian_wedding 390\n",
      "theme mujra 340\n",
      "mood happy 5408\n",
      "mood sad 4583\n",
      "mood joyful 5973\n",
      "mood sensual 834\n",
      "mood love 3668\n",
      "mood motivational 458\n",
      "mood philosophical 472\n",
      "genre classical 316\n",
      "genre religious 613\n",
      "genre folk 219\n",
      "genre WIF 4160\n",
      "other_class other 764\n"
     ]
    }
   ],
   "source": [
    "for label in main_data:\n",
    "    for sublabel in main_data[label]:\n",
    "        print(label,sublabel,len(main_data[label][sublabel]))"
   ]
  },
  {
   "cell_type": "code",
   "execution_count": 35,
   "metadata": {
    "ExecuteTime": {
     "end_time": "2019-05-17T07:24:44.283382Z",
     "start_time": "2019-05-17T07:24:44.279999Z"
    }
   },
   "outputs": [
    {
     "data": {
      "text/plain": [
       "28823"
      ]
     },
     "execution_count": 35,
     "metadata": {},
     "output_type": "execute_result"
    }
   ],
   "source": [
    "t=0\n",
    "for label in main_data:\n",
    "    for sublabel in main_data[label]:\n",
    "        t+=len(main_data[label][sublabel])\n",
    "t##total songs"
   ]
  }
 ],
 "metadata": {
  "kernelspec": {
   "display_name": "IPython (Python 3)",
   "language": "python",
   "name": "python3"
  },
  "language_info": {
   "codemirror_mode": {
    "name": "ipython",
    "version": 3
   },
   "file_extension": ".py",
   "mimetype": "text/x-python",
   "name": "python",
   "nbconvert_exporter": "python",
   "pygments_lexer": "ipython3",
   "version": "3.6.8"
  }
 },
 "nbformat": 4,
 "nbformat_minor": 2
}
